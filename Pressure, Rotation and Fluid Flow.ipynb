{
 "cells": [
  {
   "cell_type": "code",
   "execution_count": 2,
   "id": "cc6c0286-58a4-48ae-8b52-71c85531e0e0",
   "metadata": {},
   "outputs": [
    {
     "name": "stdin",
     "output_type": "stream",
     "text": [
      " 1 1 1\n"
     ]
    },
    {
     "ename": "NameError",
     "evalue": "name 'H' is not defined",
     "output_type": "error",
     "traceback": [
      "\u001b[1;31m---------------------------------------------------------------------------\u001b[0m",
      "\u001b[1;31mNameError\u001b[0m                                 Traceback (most recent call last)",
      "Cell \u001b[1;32mIn[2], line 23\u001b[0m\n\u001b[0;32m     17\u001b[0m G \u001b[38;5;241m=\u001b[39m \u001b[38;5;241m9.8e-4\u001b[39m  \u001b[38;5;66;03m# artificially low to allow a long time step\u001b[39;00m\n\u001b[0;32m     19\u001b[0m \u001b[38;5;66;03m# Your simulation code goes here\u001b[39;00m\n\u001b[0;32m     20\u001b[0m \u001b[38;5;66;03m# ...\u001b[39;00m\n\u001b[0;32m     21\u001b[0m \n\u001b[0;32m     22\u001b[0m \u001b[38;5;66;03m# Print the required output variables at the end of the simulation\u001b[39;00m\n\u001b[1;32m---> 23\u001b[0m \u001b[38;5;28mprint\u001b[39m(H[iRowOut, iColOut], dHdT[iRowOut, iColOut], U[iRowOut, iColOut], V[iRowOut, iColOut], rotU[iRowOut, iColOut])\n",
      "\u001b[1;31mNameError\u001b[0m: name 'H' is not defined"
     ]
    }
   ],
   "source": [
    "# Comment out matplotlib imports for automatic checking\n",
    "# import matplotlib.pyplot as plt\n",
    "# import matplotlib.ticker as tkr\n",
    "\n",
    "# Set parameters as required\n",
    "ncol = 3\n",
    "nSlices, iRowOut, iColOut = input(\"\").split()\n",
    "nSlices, iRowOut, iColOut = [int(nSlices), int(iRowOut), int(iColOut)]\n",
    "\n",
    "ntAnim = 1\n",
    "horizontalWrap = True\n",
    "interpolateRotation = False  # or True, either works\n",
    "textOutput = False\n",
    "plotOutput = False\n",
    "\n",
    "dT = 600    # seconds\n",
    "G = 9.8e-4  # artificially low to allow a long time step\n",
    "\n",
    "# Your simulation code goes here\n",
    "# ...\n",
    "\n",
    "# Print the required output variables at the end of the simulation\n",
    "print(H[iRowOut, iColOut], dHdT[iRowOut, iColOut], U[iRowOut, iColOut], V[iRowOut, iColOut], rotU[iRowOut, iColOut])\n"
   ]
  },
  {
   "cell_type": "code",
   "execution_count": null,
   "id": "9a1e7594-9865-4a40-9e24-080cd90080c4",
   "metadata": {},
   "outputs": [],
   "source": []
  }
 ],
 "metadata": {
  "kernelspec": {
   "display_name": "Python 3 (ipykernel)",
   "language": "python",
   "name": "python3"
  },
  "language_info": {
   "codemirror_mode": {
    "name": "ipython",
    "version": 3
   },
   "file_extension": ".py",
   "mimetype": "text/x-python",
   "name": "python",
   "nbconvert_exporter": "python",
   "pygments_lexer": "ipython3",
   "version": "3.12.4"
  }
 },
 "nbformat": 4,
 "nbformat_minor": 5
}
