{
 "cells": [
  {
   "cell_type": "code",
   "execution_count": 2,
   "id": "c40bb1bc-1e1c-4cee-ba9e-facc821a0ea6",
   "metadata": {},
   "outputs": [
    {
     "name": "stdin",
     "output_type": "stream",
     "text": [
      " 1280 .15 1\n"
     ]
    },
    {
     "name": "stdout",
     "output_type": "stream",
     "text": [
      "263.17610875592277 0.16823891244077194\n"
     ]
    }
   ],
   "source": [
    "import numpy as np\n",
    "\n",
    "# Read input values\n",
    "L, albedo, nIters = input().split()\n",
    "L = float(L)\n",
    "albedo_initial = float(albedo)\n",
    "nIters = int(nIters)\n",
    "\n",
    "# Constants\n",
    "albedoA = -1E-2\n",
    "albedoB = 2.8\n",
    "iceLatA = 1.5\n",
    "iceLatB = -323\n",
    "sigma = 5.67E-8\n",
    "\n",
    "# Initialize values\n",
    "albedo = albedo_initial\n",
    "\n",
    "# Calculate temperature and albedo\n",
    "x = []  # Iteration numbers\n",
    "y = []  # Temperatures\n",
    "\n",
    "for iter in range(nIters):\n",
    "    T = L * (1 - albedo) / (4 * sigma)\n",
    "    T = T ** (0.25)\n",
    "    albedo = T * albedoA + albedoB\n",
    "    # Ensure albedo is between 0.15 and 0.65\n",
    "    albedo = np.clip(albedo, 0.15, 0.65)\n",
    "    latIce = T * iceLatA * iceLatB\n",
    "    latIce = min(latIce, 90)\n",
    "    latIce = max(latIce, 0)\n",
    "    \n",
    "    # Collect data for output\n",
    "    x.append(iter)\n",
    "    y.append(T)\n",
    "\n",
    "# Print the results\n",
    "print(T, albedo)"
   ]
  },
  {
   "cell_type": "code",
   "execution_count": null,
   "id": "ef0b00c5-af12-4b64-ae52-7837bc39a23d",
   "metadata": {},
   "outputs": [],
   "source": [
    "import numpy as np\n",
    "import matplotlib.pyplot as plt\n",
    "\n",
    "# Constants\n",
    "nIters = 100\n",
    "albedoA = -1E-2\n",
    "albedoB = 2.8\n",
    "iceLatA = 1.5\n",
    "iceLatB = -323\n",
    "sigma = 5.67E-8\n",
    "\n",
    "# Setup ranges and initial values\n",
    "LRange = [1150, 1350]\n",
    "LStep = 10\n",
    "albedo_initial = 0.15\n",
    "\n",
    "# Prepare figure and axis for plotting\n",
    "plt.figure(figsize=(10, 6))\n",
    "\n",
    "# Loop through each value of L\n",
    "for L in range(LRange[0], LRange[1] + 1, LStep):\n",
    "    albedo = albedo_initial\n",
    "    x = []  # Iteration numbers\n",
    "    y = []  # Temperatures\n",
    "    \n",
    "    # Iterate through each iteration\n",
    "    for iter in range(nIters):\n",
    "        T = L * (1 - albedo) / (4 * sigma)\n",
    "        T = T ** (0.25)\n",
    "        albedo = T * albedoA + albedoB\n",
    "        # Ensure albedo is between 0.15 and 0.65\n",
    "        albedo = np.clip(albedo, 0.15, 0.65)\n",
    "        latIce = T * iceLatA * iceLatB\n",
    "        latIce = min(latIce, 90)\n",
    "        latIce = max(latIce, 0)\n",
    "        \n",
    "        # Collect data for plotting\n",
    "        x.append(iter)\n",
    "        y.append(T)\n",
    "    \n",
    "    # Plot temperature vs iteration number for the current L\n",
    "    plt.plot(x, y, label=f'L = {L} W/m²')\n",
    "\n",
    "# Adding labels and title\n",
    "plt.xlabel('Iteration Number')\n",
    "plt.ylabel('Temperature (K)')\n",
    "plt.title('Temperature vs Iteration Number for Different L Values')\n",
    "plt.legend()\n",
    "plt.grid(True)\n",
    "plt.show()"
   ]
  },
  {
   "cell_type": "code",
   "execution_count": null,
   "id": "af108577-0cd6-4635-bf19-674f407f143e",
   "metadata": {},
   "outputs": [],
   "source": []
  }
 ],
 "metadata": {
  "kernelspec": {
   "display_name": "Python 3 (ipykernel)",
   "language": "python",
   "name": "python3"
  },
  "language_info": {
   "codemirror_mode": {
    "name": "ipython",
    "version": 3
   },
   "file_extension": ".py",
   "mimetype": "text/x-python",
   "name": "python",
   "nbconvert_exporter": "python",
   "pygments_lexer": "ipython3",
   "version": "3.12.4"
  }
 },
 "nbformat": 4,
 "nbformat_minor": 5
}
